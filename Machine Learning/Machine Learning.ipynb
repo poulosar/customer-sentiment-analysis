{
 "cells": [
  {
   "cell_type": "code",
   "execution_count": 1,
   "metadata": {},
   "outputs": [],
   "source": [
    "# Initial imports\n",
    "import pandas as pd\n",
    "from pathlib import Path\n",
    "import numpy as np\n",
    "import matplotlib.pyplot as plt"
   ]
  },
  {
   "cell_type": "code",
   "execution_count": null,
   "metadata": {},
   "outputs": [],
   "source": [
    "# Data loading\n",
    "file_path = Path(\"../Resources/data.csv\")\n",
    "df = pd.read_csv(file_path)\n",
    "df.head(10)"
   ]
  },
  {
   "cell_type": "code",
   "execution_count": null,
   "metadata": {},
   "outputs": [],
   "source": [
    "df.dtypes"
   ]
  },
  {
   "cell_type": "code",
   "execution_count": null,
   "metadata": {},
   "outputs": [],
   "source": [
    "# Converting DT_Customer to datetime object\n",
    "\n",
    "df['Dt_Customer'] = pd.to_datetime(df['Dt_Customer'], \n",
    " format = '%Y-%m-%d', \n",
    " errors = 'coerce')"
   ]
  },
  {
   "cell_type": "code",
   "execution_count": null,
   "metadata": {},
   "outputs": [],
   "source": [
    "df.dtypes"
   ]
  },
  {
   "cell_type": "code",
   "execution_count": null,
   "metadata": {},
   "outputs": [],
   "source": [
    "df['ShoppingDay_month'] = df['Dt_Customer'].dt.month\n",
    "df['ShoppingDay_week'] = df['Dt_Customer'].dt.week\n",
    "df['ShoppingDay_day'] = df['Dt_Customer'].dt.day\n",
    "df['ShoppingDay_dayofweek'] = df['Dt_Customer'].dt.dayofweek"
   ]
  },
  {
   "cell_type": "code",
   "execution_count": null,
   "metadata": {},
   "outputs": [],
   "source": [
    "\n",
    "# Cleaning new dataframe\n",
    "df.pop('Dt_Customer')\n",
    "df['Income'].astype(int)\n",
    "df.pop('ID')\n",
    "df.dtypes\n"
   ]
  },
  {
   "cell_type": "code",
   "execution_count": null,
   "metadata": {},
   "outputs": [],
   "source": [
    "#Looking at new data to get an idea of habits\n",
    "#df.groupby('ShoppingDay_month').size()\n",
    "#df.groupby('ShoppingDay_day').size()\n",
    "#df.groupby('ShoppingDay_dayofweek').size()"
   ]
  },
  {
   "cell_type": "code",
   "execution_count": 2,
   "metadata": {},
   "outputs": [
    {
     "ename": "NameError",
     "evalue": "name 'df' is not defined",
     "output_type": "error",
     "traceback": [
      "\u001b[1;31m---------------------------------------------------------------------------\u001b[0m",
      "\u001b[1;31mNameError\u001b[0m                                 Traceback (most recent call last)",
      "\u001b[1;32m<ipython-input-2-475889b6d56a>\u001b[0m in \u001b[0;36m<module>\u001b[1;34m\u001b[0m\n\u001b[0;32m      1\u001b[0m \u001b[1;31m#Adding dummies for string columns\u001b[0m\u001b[1;33m\u001b[0m\u001b[1;33m\u001b[0m\u001b[1;33m\u001b[0m\u001b[0m\n\u001b[1;32m----> 2\u001b[1;33m \u001b[0mdata\u001b[0m \u001b[1;33m=\u001b[0m \u001b[0mpd\u001b[0m\u001b[1;33m.\u001b[0m\u001b[0mget_dummies\u001b[0m\u001b[1;33m(\u001b[0m\u001b[0mdf\u001b[0m\u001b[1;33m,\u001b[0m\u001b[0mcolumns\u001b[0m \u001b[1;33m=\u001b[0m \u001b[1;33m[\u001b[0m\u001b[1;34m'Education'\u001b[0m\u001b[1;33m,\u001b[0m \u001b[1;34m'Marital_Status'\u001b[0m\u001b[1;33m]\u001b[0m\u001b[1;33m)\u001b[0m\u001b[1;33m\u001b[0m\u001b[1;33m\u001b[0m\u001b[0m\n\u001b[0m\u001b[0;32m      3\u001b[0m \u001b[0mdata\u001b[0m\u001b[1;33m.\u001b[0m\u001b[0mto_csv\u001b[0m\u001b[1;33m(\u001b[0m\u001b[1;34m'../Resources/ml_data.csv'\u001b[0m\u001b[1;33m,\u001b[0m \u001b[0mindex\u001b[0m\u001b[1;33m=\u001b[0m\u001b[1;32mFalse\u001b[0m\u001b[1;33m)\u001b[0m\u001b[1;33m\u001b[0m\u001b[1;33m\u001b[0m\u001b[0m\n",
      "\u001b[1;31mNameError\u001b[0m: name 'df' is not defined"
     ]
    }
   ],
   "source": [
    "#Adding dummies for string columns\n",
    "data = pd.get_dummies(df,columns = ['Education', 'Marital_Status'])\n",
    "data.to_csv('../Resources/ml_data.csv', index=False)"
   ]
  },
  {
   "cell_type": "code",
   "execution_count": 3,
   "metadata": {},
   "outputs": [],
   "source": [
    "customer_data = pd.read_csv('../Resources/ml_data.csv')"
   ]
  },
  {
   "cell_type": "code",
   "execution_count": 5,
   "metadata": {},
   "outputs": [
    {
     "data": {
      "text/html": [
       "<div>\n",
       "<style scoped>\n",
       "    .dataframe tbody tr th:only-of-type {\n",
       "        vertical-align: middle;\n",
       "    }\n",
       "\n",
       "    .dataframe tbody tr th {\n",
       "        vertical-align: top;\n",
       "    }\n",
       "\n",
       "    .dataframe thead th {\n",
       "        text-align: right;\n",
       "    }\n",
       "</style>\n",
       "<table border=\"1\" class=\"dataframe\">\n",
       "  <thead>\n",
       "    <tr style=\"text-align: right;\">\n",
       "      <th></th>\n",
       "      <th>Year_Birth</th>\n",
       "      <th>Income</th>\n",
       "      <th>Kidhome</th>\n",
       "      <th>Teenhome</th>\n",
       "      <th>Recency</th>\n",
       "      <th>MntWines</th>\n",
       "      <th>MntFruits</th>\n",
       "      <th>MntMeatProducts</th>\n",
       "      <th>MntFishProducts</th>\n",
       "      <th>MntSweetProducts</th>\n",
       "      <th>...</th>\n",
       "      <th>Education_2n Cycle</th>\n",
       "      <th>Education_Basic</th>\n",
       "      <th>Education_Graduation</th>\n",
       "      <th>Education_Master</th>\n",
       "      <th>Education_PhD</th>\n",
       "      <th>Marital_Status_Divorced</th>\n",
       "      <th>Marital_Status_Married</th>\n",
       "      <th>Marital_Status_Single</th>\n",
       "      <th>Marital_Status_Together</th>\n",
       "      <th>Marital_Status_Widow</th>\n",
       "    </tr>\n",
       "  </thead>\n",
       "  <tbody>\n",
       "    <tr>\n",
       "      <th>0</th>\n",
       "      <td>1957</td>\n",
       "      <td>58138.0</td>\n",
       "      <td>0</td>\n",
       "      <td>0</td>\n",
       "      <td>58</td>\n",
       "      <td>635</td>\n",
       "      <td>88</td>\n",
       "      <td>546</td>\n",
       "      <td>172</td>\n",
       "      <td>88</td>\n",
       "      <td>...</td>\n",
       "      <td>0</td>\n",
       "      <td>0</td>\n",
       "      <td>1</td>\n",
       "      <td>0</td>\n",
       "      <td>0</td>\n",
       "      <td>0</td>\n",
       "      <td>0</td>\n",
       "      <td>1</td>\n",
       "      <td>0</td>\n",
       "      <td>0</td>\n",
       "    </tr>\n",
       "    <tr>\n",
       "      <th>1</th>\n",
       "      <td>1954</td>\n",
       "      <td>46344.0</td>\n",
       "      <td>1</td>\n",
       "      <td>1</td>\n",
       "      <td>38</td>\n",
       "      <td>11</td>\n",
       "      <td>1</td>\n",
       "      <td>6</td>\n",
       "      <td>2</td>\n",
       "      <td>1</td>\n",
       "      <td>...</td>\n",
       "      <td>0</td>\n",
       "      <td>0</td>\n",
       "      <td>1</td>\n",
       "      <td>0</td>\n",
       "      <td>0</td>\n",
       "      <td>0</td>\n",
       "      <td>0</td>\n",
       "      <td>1</td>\n",
       "      <td>0</td>\n",
       "      <td>0</td>\n",
       "    </tr>\n",
       "    <tr>\n",
       "      <th>2</th>\n",
       "      <td>1965</td>\n",
       "      <td>71613.0</td>\n",
       "      <td>0</td>\n",
       "      <td>0</td>\n",
       "      <td>26</td>\n",
       "      <td>426</td>\n",
       "      <td>49</td>\n",
       "      <td>127</td>\n",
       "      <td>111</td>\n",
       "      <td>21</td>\n",
       "      <td>...</td>\n",
       "      <td>0</td>\n",
       "      <td>0</td>\n",
       "      <td>1</td>\n",
       "      <td>0</td>\n",
       "      <td>0</td>\n",
       "      <td>0</td>\n",
       "      <td>0</td>\n",
       "      <td>0</td>\n",
       "      <td>1</td>\n",
       "      <td>0</td>\n",
       "    </tr>\n",
       "    <tr>\n",
       "      <th>3</th>\n",
       "      <td>1984</td>\n",
       "      <td>26646.0</td>\n",
       "      <td>1</td>\n",
       "      <td>0</td>\n",
       "      <td>26</td>\n",
       "      <td>11</td>\n",
       "      <td>4</td>\n",
       "      <td>20</td>\n",
       "      <td>10</td>\n",
       "      <td>3</td>\n",
       "      <td>...</td>\n",
       "      <td>0</td>\n",
       "      <td>0</td>\n",
       "      <td>1</td>\n",
       "      <td>0</td>\n",
       "      <td>0</td>\n",
       "      <td>0</td>\n",
       "      <td>0</td>\n",
       "      <td>0</td>\n",
       "      <td>1</td>\n",
       "      <td>0</td>\n",
       "    </tr>\n",
       "    <tr>\n",
       "      <th>4</th>\n",
       "      <td>1981</td>\n",
       "      <td>58293.0</td>\n",
       "      <td>1</td>\n",
       "      <td>0</td>\n",
       "      <td>94</td>\n",
       "      <td>173</td>\n",
       "      <td>43</td>\n",
       "      <td>118</td>\n",
       "      <td>46</td>\n",
       "      <td>27</td>\n",
       "      <td>...</td>\n",
       "      <td>0</td>\n",
       "      <td>0</td>\n",
       "      <td>0</td>\n",
       "      <td>0</td>\n",
       "      <td>1</td>\n",
       "      <td>0</td>\n",
       "      <td>1</td>\n",
       "      <td>0</td>\n",
       "      <td>0</td>\n",
       "      <td>0</td>\n",
       "    </tr>\n",
       "  </tbody>\n",
       "</table>\n",
       "<p>5 rows × 42 columns</p>\n",
       "</div>"
      ],
      "text/plain": [
       "   Year_Birth   Income  Kidhome  Teenhome  Recency  MntWines  MntFruits  \\\n",
       "0        1957  58138.0        0         0       58       635         88   \n",
       "1        1954  46344.0        1         1       38        11          1   \n",
       "2        1965  71613.0        0         0       26       426         49   \n",
       "3        1984  26646.0        1         0       26        11          4   \n",
       "4        1981  58293.0        1         0       94       173         43   \n",
       "\n",
       "   MntMeatProducts  MntFishProducts  MntSweetProducts  ...  \\\n",
       "0              546              172                88  ...   \n",
       "1                6                2                 1  ...   \n",
       "2              127              111                21  ...   \n",
       "3               20               10                 3  ...   \n",
       "4              118               46                27  ...   \n",
       "\n",
       "   Education_2n Cycle  Education_Basic  Education_Graduation  \\\n",
       "0                   0                0                     1   \n",
       "1                   0                0                     1   \n",
       "2                   0                0                     1   \n",
       "3                   0                0                     1   \n",
       "4                   0                0                     0   \n",
       "\n",
       "   Education_Master  Education_PhD  Marital_Status_Divorced  \\\n",
       "0                 0              0                        0   \n",
       "1                 0              0                        0   \n",
       "2                 0              0                        0   \n",
       "3                 0              0                        0   \n",
       "4                 0              1                        0   \n",
       "\n",
       "   Marital_Status_Married  Marital_Status_Single  Marital_Status_Together  \\\n",
       "0                       0                      1                        0   \n",
       "1                       0                      1                        0   \n",
       "2                       0                      0                        1   \n",
       "3                       0                      0                        1   \n",
       "4                       1                      0                        0   \n",
       "\n",
       "   Marital_Status_Widow  \n",
       "0                     0  \n",
       "1                     0  \n",
       "2                     0  \n",
       "3                     0  \n",
       "4                     0  \n",
       "\n",
       "[5 rows x 42 columns]"
      ]
     },
     "execution_count": 5,
     "metadata": {},
     "output_type": "execute_result"
    }
   ],
   "source": [
<<<<<<< HEAD
    "df.dtypes"
   ]
  },
  {
   "cell_type": "code",
   "execution_count": 6,
   "metadata": {},
   "outputs": [
    {
     "name": "stderr",
     "output_type": "stream",
     "text": [
      "<ipython-input-6-2ec84a891c4e>:2: FutureWarning: Series.dt.weekofyear and Series.dt.week have been deprecated.  Please use Series.dt.isocalendar().week instead.\n",
      "  df['ShoppingDay_week'] = df['Dt_Customer'].dt.week\n"
     ]
    }
   ],
   "source": [
    "df['ShoppingDay_month'] = df['Dt_Customer'].dt.month\n",
    "df['ShoppingDay_week'] = df['Dt_Customer'].dt.week\n",
    "df['ShoppingDay_day'] = df['Dt_Customer'].dt.day\n",
    "df['ShoppingDay_dayofweek'] = df['Dt_Customer'].dt.dayofweek"
   ]
  },
  {
   "cell_type": "code",
   "execution_count": 7,
   "metadata": {},
   "outputs": [
    {
     "data": {
      "text/plain": [
       "ID                         int64\n",
       "Year_Birth                 int64\n",
       "Education                 object\n",
       "Marital_Status            object\n",
       "Income                   float64\n",
       "Kidhome                    int64\n",
       "Teenhome                   int64\n",
       "Recency                    int64\n",
       "MntWines                   int64\n",
       "MntFruits                  int64\n",
       "MntMeatProducts            int64\n",
       "MntFishProducts            int64\n",
       "MntSweetProducts           int64\n",
       "MntGoldProds               int64\n",
       "NumDealsPurchases          int64\n",
       "NumWebPurchases            int64\n",
       "NumCatalogPurchases        int64\n",
       "NumStorePurchases          int64\n",
       "NumWebVisitsMonth          int64\n",
       "AcceptedCmp3               int64\n",
       "AcceptedCmp4               int64\n",
       "AcceptedCmp5               int64\n",
       "AcceptedCmp1               int64\n",
       "AcceptedCmp2               int64\n",
       "Complain                   int64\n",
       "Z_CostContact              int64\n",
       "Z_Revenue                  int64\n",
       "Response                   int64\n",
       "Age                        int64\n",
       "ShoppingDay_month          int64\n",
       "ShoppingDay_week           int64\n",
       "ShoppingDay_day            int64\n",
       "ShoppingDay_dayofweek      int64\n",
       "dtype: object"
      ]
     },
     "execution_count": 7,
     "metadata": {},
     "output_type": "execute_result"
    }
   ],
   "source": [
    "# Cleaning new dataframe\n",
    "df.pop('Dt_Customer')\n",
    "df['Income'].astype(int)\n",
    "df.dtypes"
   ]
  },
  {
   "cell_type": "code",
   "execution_count": 8,
   "metadata": {},
   "outputs": [],
   "source": [
    "#Looking at new data to get an idea of habits\n",
    "#df.groupby('ShoppingDay_month').size()\n",
    "#df.groupby('ShoppingDay_day').size()\n",
    "#df.groupby('ShoppingDay_dayofweek').size()"
   ]
  },
  {
   "cell_type": "code",
   "execution_count": 9,
   "metadata": {},
   "outputs": [],
   "source": [
    "#Adding dummies for string columns\n",
    "data = pd.get_dummies(df,columns = ['Education', 'Marital_Status'])\n"
=======
    "# Now lets create the X df as a copy of selected, copy the \n",
    "# \"Survived\" column as y, and drop the survived column from X\n",
    "X = customer_data.copy()\n",
    "y = customer_data[\"AcceptedCmp1\"].copy()\n",
    "X = X.drop(\"AcceptedCmp1\", axis=1)\n",
    "\n",
    "customer_data.head()"
>>>>>>> df2f2db9abb06334de00a2447234989f057b3fb8
   ]
  },
  {
   "cell_type": "code",
<<<<<<< HEAD
   "execution_count": 10,
=======
   "execution_count": null,
>>>>>>> df2f2db9abb06334de00a2447234989f057b3fb8
   "metadata": {},
   "outputs": [],
   "source": []
  },
  {
   "cell_type": "code",
<<<<<<< HEAD
   "execution_count": 11,
=======
   "execution_count": 6,
>>>>>>> df2f2db9abb06334de00a2447234989f057b3fb8
   "metadata": {},
   "outputs": [],
   "source": [
    "# Time to train/test/split our data! \n",
    "\n",
    "from sklearn.model_selection import train_test_split\n",
    "\n",
    "X_train, X_test, y_train, y_test = train_test_split(X, y, random_state=13)"
   ]
  },
  {
   "cell_type": "code",
<<<<<<< HEAD
   "execution_count": 12,
   "metadata": {},
   "outputs": [
    {
     "data": {
      "image/png": "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\n",
      "text/plain": [
       "<Figure size 1008x432 with 1 Axes>"
      ]
     },
     "metadata": {
      "needs_background": "light"
     },
     "output_type": "display_data"
=======
   "execution_count": 7,
   "metadata": {},
   "outputs": [
    {
     "name": "stdout",
     "output_type": "stream",
     "text": [
      "Test: 0.9368231046931408\n",
      "Train: 0.9356197352587244\n"
     ]
    },
    {
     "name": "stderr",
     "output_type": "stream",
     "text": [
      "C:\\Users\\Xander\\anaconda3\\lib\\site-packages\\sklearn\\linear_model\\_logistic.py:765: ConvergenceWarning: lbfgs failed to converge (status=1):\n",
      "STOP: TOTAL NO. of ITERATIONS REACHED LIMIT.\n",
      "\n",
      "Increase the number of iterations (max_iter) or scale the data as shown in:\n",
      "    https://scikit-learn.org/stable/modules/preprocessing.html\n",
      "Please also refer to the documentation for alternative solver options:\n",
      "    https://scikit-learn.org/stable/modules/linear_model.html#logistic-regression\n",
      "  extra_warning_msg=_LOGISTIC_SOLVER_CONVERGENCE_MSG)\n"
     ]
>>>>>>> df2f2db9abb06334de00a2447234989f057b3fb8
    }
   ],
   "source": [
    "# A quick LogReg as our first model, fitting and\n",
    "# scoring all at once. I had to use the \"liblinear\"\n",
    "# solver on Kaggle (not on my local machine) because\n",
    "# I was getting an error described here: https://stackoverflow.com/questions/65682019/attributeerror-str-object-has-no-attribute-decode-in-fitting-logistic-regre\n",
    "\n",
    "from sklearn.linear_model import LogisticRegression\n",
    "classifier = LogisticRegression()\n",
    "\n",
    "classifier.fit(X_train,y_train)\n",
    "print(\"Test:\", classifier.score(X_test, y_test))\n",
    "print(\"Train:\", classifier.score(X_train, y_train))"
   ]
  },
  {
   "cell_type": "code",
   "execution_count": null,
   "metadata": {},
   "outputs": [],
   "source": []
  }
 ],
 "metadata": {
  "kernelspec": {
   "display_name": "Python 3",
   "language": "python",
   "name": "python3"
  },
  "language_info": {
   "codemirror_mode": {
    "name": "ipython",
    "version": 3
   },
   "file_extension": ".py",
   "mimetype": "text/x-python",
   "name": "python",
   "nbconvert_exporter": "python",
   "pygments_lexer": "ipython3",
   "version": "3.7.6"
  }
 },
 "nbformat": 4,
 "nbformat_minor": 4
}
